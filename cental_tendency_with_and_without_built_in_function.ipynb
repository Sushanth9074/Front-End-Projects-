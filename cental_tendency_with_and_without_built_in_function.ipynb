{
  "nbformat": 4,
  "nbformat_minor": 0,
  "metadata": {
    "colab": {
      "provenance": [],
      "include_colab_link": true
    },
    "kernelspec": {
      "name": "python3",
      "display_name": "Python 3"
    },
    "language_info": {
      "name": "python"
    }
  },
  "cells": [
    {
      "cell_type": "markdown",
      "metadata": {
        "id": "view-in-github",
        "colab_type": "text"
      },
      "source": [
        "<a href=\"https://colab.research.google.com/github/Sushanth9074/Front-End-Projects-/blob/main/cental_tendency_with_and_without_built_in_function.ipynb\" target=\"_parent\"><img src=\"https://colab.research.google.com/assets/colab-badge.svg\" alt=\"Open In Colab\"/></a>"
      ]
    },
    {
      "cell_type": "code",
      "source": [
        "\n",
        "# FIRST LET US CREATE AN LIST USING PROMPT\n",
        "data=[]\n",
        "n=int(input(\"enter the number of elements\"))\n",
        "for i in range(0,n):\n",
        "  ele=int(input(\"ent5er the elements :\"))\n",
        "  data.append(ele)\n",
        "print(\"the created list is\",data)"
      ],
      "metadata": {
        "colab": {
          "base_uri": "https://localhost:8080/"
        },
        "id": "PkdWpYHt-aKL",
        "outputId": "8ff2bf0a-b574-4c70-c39c-2d84fc48938f"
      },
      "execution_count": 36,
      "outputs": [
        {
          "output_type": "stream",
          "name": "stdout",
          "text": [
            "enter the number of elements8\n",
            "ent5er the elements :1\n",
            "ent5er the elements :1\n",
            "ent5er the elements :9\n",
            "ent5er the elements :5\n",
            "ent5er the elements :8\n",
            "ent5er the elements :7\n",
            "ent5er the elements :9\n",
            "ent5er the elements :9\n",
            "the created list is [1, 1, 9, 5, 8, 7, 9, 9]\n"
          ]
        }
      ]
    },
    {
      "cell_type": "code",
      "source": [
        "#finding mean without using built in function\n",
        "sum=0\n",
        "for i in data:\n",
        "  sum=sum+i\n",
        "mean=sum/len(data)\n",
        "print(\"mean (without using built in function) :\",str(mean))\n",
        "\n",
        "#finding mean using built in function\n",
        "import numpy as np\n",
        "print (\"mean  (using built in function) : %s \"%np.mean(data))"
      ],
      "metadata": {
        "colab": {
          "base_uri": "https://localhost:8080/"
        },
        "id": "Bo4iqwEdcdt4",
        "outputId": "37e70f2b-30be-4e06-d347-33c47189ffa3"
      },
      "execution_count": 38,
      "outputs": [
        {
          "output_type": "stream",
          "name": "stdout",
          "text": [
            "mean (without using built in function) : 6.125\n",
            "mean  (using built in function) : 6.125 \n"
          ]
        }
      ]
    },
    {
      "cell_type": "code",
      "source": [
        "#finding median withou using built in function\n",
        "\n",
        "# let us find  the median\n",
        "sorted_data=sorted(data)\n",
        "print(\"the sorted data is :\",sorted_data)\n",
        "if n%2==0:\n",
        "  mid_index1=n//2\n",
        "  mid_index2=mid_index1-1\n",
        "  median=(sorted_data[mid_index1]+sorted_data[mid_index2])/2\n",
        "else:\n",
        "  mid_index=n//2\n",
        "  median=sorted_data[mid_index]\n",
        "print(\"the median is :\",median)\n",
        "\n",
        "\n",
        "\n",
        "#finding median using function\n",
        "import numpy as np\n",
        "print('median(with using functions): %s'%np.median(data))"
      ],
      "metadata": {
        "colab": {
          "base_uri": "https://localhost:8080/"
        },
        "id": "FJ98FLhHd5Ed",
        "outputId": "05be7552-9805-4641-d907-8405977e7d41"
      },
      "execution_count": 39,
      "outputs": [
        {
          "output_type": "stream",
          "name": "stdout",
          "text": [
            "the sorted data is : [1, 1, 5, 7, 8, 9, 9, 9]\n",
            "the median is : 7.5\n",
            "median(with using functions): 7.5\n"
          ]
        }
      ]
    },
    {
      "cell_type": "code",
      "source": [
        "\n",
        "# now let us find the mode\n",
        "count={}\n",
        "for element in data:\n",
        "  if element in count:\n",
        "    count[element] +=1\n",
        "  else:\n",
        "    count[element] =1\n",
        "max_counts=max(count.values())\n",
        "mode=[element for element,c in count.items() if c==max_counts]\n",
        "print(\"mode without using builtin \",mode)\n",
        "\n",
        "#finding mode using function\n",
        "import statistics as stat\n",
        "print('mode(with using functions): %s'%stat.mode(data))"
      ],
      "metadata": {
        "colab": {
          "base_uri": "https://localhost:8080/"
        },
        "id": "qHwjN_kKlyIh",
        "outputId": "ece12af5-167a-407b-acf1-e4e90a3264dc"
      },
      "execution_count": 40,
      "outputs": [
        {
          "output_type": "stream",
          "name": "stdout",
          "text": [
            "mode without using builtin  [9]\n",
            "mode(with using functions): 9\n"
          ]
        }
      ]
    }
  ]
}