{
  "nbformat": 4,
  "nbformat_minor": 0,
  "metadata": {
    "colab": {
      "provenance": [],
      "authorship_tag": "ABX9TyN9fYTAvbdoVJF8tNUFXXt7",
      "include_colab_link": true
    },
    "kernelspec": {
      "name": "python3",
      "display_name": "Python 3"
    },
    "language_info": {
      "name": "python"
    }
  },
  "cells": [
    {
      "cell_type": "markdown",
      "metadata": {
        "id": "view-in-github",
        "colab_type": "text"
      },
      "source": [
        "<a href=\"https://colab.research.google.com/github/Sushanth9074/Front-End-Projects-/blob/main/Measure_of_dispersion.ipynb\" target=\"_parent\"><img src=\"https://colab.research.google.com/assets/colab-badge.svg\" alt=\"Open In Colab\"/></a>"
      ]
    },
    {
      "cell_type": "code",
      "execution_count": 9,
      "metadata": {
        "colab": {
          "base_uri": "https://localhost:8080/"
        },
        "id": "U9oFKtnqKV_c",
        "outputId": "4434b537-d368-4116-8b50-71a5aa56bf16"
      },
      "outputs": [
        {
          "output_type": "stream",
          "name": "stdout",
          "text": [
            "enter the number of elements5\n",
            "enter t1he elements :3\n",
            "enter t1he elements :2\n",
            "enter t1he elements :8\n",
            "enter t1he elements :9\n",
            "enter t1he elements :1\n",
            "the created list is [3, 2, 8, 9, 1]\n"
          ]
        }
      ],
      "source": [
        "\n",
        "# FIRST LET US CREATE AN LIST USING PROMPT\n",
        "data=[]\n",
        "n=int(input(\"enter the number of elements\"))\n",
        "for i in range(0,n):\n",
        "  ele=int(input(\"enter t1he elements :\"))\n",
        "  data.append(ele)\n",
        "print(\"the created list is\",data)"
      ]
    },
    {
      "cell_type": "code",
      "source": [
        "minimum = maximum = data[0]\n",
        "for num in data:\n",
        "    if num <= minimum:\n",
        "        minimum = num\n",
        "    if num >= maximum:\n",
        "        maximum = num\n",
        "\n",
        "range_value = maximum - minimum\n",
        "print(\"range (without function):\", range_value)\n",
        "\n",
        "#range with function\n",
        "import numpy as np\n",
        "min=np.min(data)\n",
        "max=np.max(data)\n",
        "range1=max-min\n",
        "print('range(with function)',range1)"
      ],
      "metadata": {
        "colab": {
          "base_uri": "https://localhost:8080/"
        },
        "id": "3mqyvymYKpLE",
        "outputId": "c5a09d5a-c7a2-4d85-9fbe-1ac894544767"
      },
      "execution_count": 10,
      "outputs": [
        {
          "output_type": "stream",
          "name": "stdout",
          "text": [
            "range (without function): 8\n",
            "range(with function) 8\n"
          ]
        }
      ]
    },
    {
      "cell_type": "code",
      "source": [
        "sum1=0\n",
        "for i in data:\n",
        "  sum1=sum1+i\n",
        "mean=sum1/len(data)\n",
        "# Calculating the variance\n",
        "variance = sum((item - mean) ** 2 for item in data) / (len(data))\n",
        "print(\"The variance of the set without functions:\", variance)\n",
        "\n",
        "# Using the numpy function\n",
        "import numpy as np\n",
        "print(\"Variance (with function):\", np.var(data))"
      ],
      "metadata": {
        "colab": {
          "base_uri": "https://localhost:8080/"
        },
        "id": "HXBUv2xYKsqz",
        "outputId": "35133785-9046-4059-8728-f46bb804db82"
      },
      "execution_count": 11,
      "outputs": [
        {
          "output_type": "stream",
          "name": "stdout",
          "text": [
            "The variance of the set without functions: 10.64\n",
            "Variance (with function): 10.64\n"
          ]
        }
      ]
    },
    {
      "cell_type": "code",
      "source": [
        "# Calculating the standard deviation\n",
        "std = variance ** 0.5\n",
        "print(\"The standard deviation without using function is:\", std)\n",
        "\n",
        "# Using the numpy function\n",
        "import numpy as np\n",
        "print(\"standard deviation  (with function):\", np.std(data))\n"
      ],
      "metadata": {
        "colab": {
          "base_uri": "https://localhost:8080/"
        },
        "id": "wiIWaZq_LGa7",
        "outputId": "396d07b4-8a4e-45ae-fc39-4bafb468d8aa"
      },
      "execution_count": 12,
      "outputs": [
        {
          "output_type": "stream",
          "name": "stdout",
          "text": [
            "The standard deviation without using function is: 3.2619012860600183\n",
            "standard deviation  (with function): 3.2619012860600183\n"
          ]
        }
      ]
    },
    {
      "cell_type": "code",
      "source": [
        "import numpy as np\n",
        "from scipy import stats\n",
        "\n",
        "\n",
        "# Calculate IQR without using function\n",
        "q3, q1 = np.percentile(data, [75, 25], interpolation='midpoint')\n",
        "iqr = q3 - q1\n",
        "print(\"IQR without using function:\", iqr)\n",
        "\n",
        "# Calculate IQR using function\n",
        "IQR = stats.iqr(data, interpolation='midpoint')\n",
        "print(\"IQR using function:\", IQR)"
      ],
      "metadata": {
        "colab": {
          "base_uri": "https://localhost:8080/"
        },
        "id": "E3reP7BpMff8",
        "outputId": "36c80332-5d90-451c-ed35-96efa6da4255"
      },
      "execution_count": 13,
      "outputs": [
        {
          "output_type": "stream",
          "name": "stdout",
          "text": [
            "IQR without using function: 6.0\n",
            "IQR using function: 6.0\n"
          ]
        },
        {
          "output_type": "stream",
          "name": "stderr",
          "text": [
            "<ipython-input-13-f0e500ef5950>:6: DeprecationWarning: the `interpolation=` argument to percentile was renamed to `method=`, which has additional options.\n",
            "Users of the modes 'nearest', 'lower', 'higher', or 'midpoint' are encouraged to review the method they. (Deprecated NumPy 1.22)\n",
            "  q3, q1 = np.percentile(data, [75, 25], interpolation='midpoint')\n"
          ]
        }
      ]
    }
  ]
}